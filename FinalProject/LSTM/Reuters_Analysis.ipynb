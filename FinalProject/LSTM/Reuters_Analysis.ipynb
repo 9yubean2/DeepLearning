{
  "nbformat": 4,
  "nbformat_minor": 0,
  "metadata": {
    "colab": {
      "name": "Reuters_Analysis.ipynb",
      "provenance": [],
      "authorship_tag": "ABX9TyN20RuTdpjABeAYbdJLNlE5",
      "include_colab_link": true
    },
    "kernelspec": {
      "name": "python3",
      "display_name": "Python 3"
    },
    "language_info": {
      "name": "python"
    }
  },
  "cells": [
    {
      "cell_type": "markdown",
      "metadata": {
        "id": "view-in-github",
        "colab_type": "text"
      },
      "source": [
        "<a href=\"https://colab.research.google.com/github/9yubean2/DeepLearning/blob/main/Reuters_Analysis.ipynb\" target=\"_parent\"><img src=\"https://colab.research.google.com/assets/colab-badge.svg\" alt=\"Open In Colab\"/></a>"
      ]
    },
    {
      "cell_type": "code",
      "metadata": {
        "colab": {
          "base_uri": "https://localhost:8080/",
          "height": 401
        },
        "id": "i4lptB-UMLsp",
        "outputId": "b5224973-de63-445e-d882-cc38ea0dee69"
      },
      "source": [
        "import numpy as np\n",
        "import matplotlib.pyplot as plt\n",
        "from tensorflow.keras.datasets import reuters\n",
        "\n",
        "#모든 단어 사용(num_words = None), 전체 데이터 중 30%를 테스트 데이터 사용(test_split=0.3)\n",
        "(x_train, y_train), (x_test, y_test) = reuters.load_data(num_words = None, test_split=0.3)\n",
        "\n",
        "print('훈련용 뉴스 기사 : {}개'.format(len(x_train)))\n",
        "print('테스트용 뉴스 기사 : {}개'.format(len(x_test)))\n",
        "num_classes = len(set(y_train))\n",
        "print('\\n카테고리 : {}'.format(len(set(y_train))))\n",
        "\n",
        "print('\\n데이터 최대 길이 : {}'.format(max(len(l) for l in x_train)))\n",
        "print('데이터 평균 길이 : {}'.format(sum(map(len, x_train))/len(x_train)))\n",
        "\n",
        "plt.hist([len(s) for s in x_train], bins=50)\n",
        "plt.xlabel('length of samples')\n",
        "plt.ylabel('number of samples')\n",
        "plt.show()"
      ],
      "execution_count": 8,
      "outputs": [
        {
          "output_type": "stream",
          "name": "stdout",
          "text": [
            "훈련용 뉴스 기사 : 7859개\n",
            "테스트용 뉴스 기사 : 3369개\n",
            "\n",
            "카테고리 : 46\n",
            "\n",
            "데이터 최대 길이 : 2246\n",
            "데이터 평균 길이 : 146.07914492938033\n"
          ]
        },
        {
          "output_type": "display_data",
          "data": {
            "image/png": "[encoded data removed]",
            "text/plain": [
              "<Figure size 432x288 with 1 Axes>"
            ]
          },
          "metadata": {
            "needs_background": "light"
          }
        }
      ]
    }
  ]
}
