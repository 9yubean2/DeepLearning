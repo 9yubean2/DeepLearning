{
  "nbformat": 4,
  "nbformat_minor": 0,
  "metadata": {
    "colab": {
      "name": "LSTM_reuters.ipynb",
      "provenance": [],
      "authorship_tag": "ABX9TyNuLG+cxUQBmIk6Ykou1Nu0",
      "include_colab_link": true
    },
    "kernelspec": {
      "name": "python3",
      "display_name": "Python 3"
    },
    "language_info": {
      "name": "python"
    }
  },
  "cells": [
    {
      "cell_type": "markdown",
      "metadata": {
        "id": "view-in-github",
        "colab_type": "text"
      },
      "source": [
        "<a href=\"https://colab.research.google.com/github/9yubean2/DeepLearning/blob/main/LSTM_reuters.ipynb\" target=\"_parent\"><img src=\"https://colab.research.google.com/assets/colab-badge.svg\" alt=\"Open In Colab\"/></a>"
      ]
    },
    {
      "cell_type": "code",
      "metadata": {
        "colab": {
          "base_uri": "https://localhost:8080/",
          "height": 1000
        },
        "id": "fF8k66W1LseW",
        "outputId": "e6b2d736-7fe9-4056-a8d3-29ef1718e7d3"
      },
      "source": [
        "from tensorflow.keras.datasets import reuters\n",
        "from tensorflow.keras.models import Sequential\n",
        "from tensorflow.keras.layers import Dense,LSTM,Embedding\n",
        "from tensorflow.keras import preprocessing\n",
        "from tensorflow.keras.utils import to_categorical\n",
        "from tensorflow.keras.callbacks import EarlyStopping, ModelCheckpoint\n",
        "from tensorflow.keras.models import load_model\n",
        "\n",
        "import numpy as np\n",
        "import matplotlib.pyplot as plt\n",
        "\n",
        "dic_size = 1000 #단어 빈도수\n",
        "sample_size = 140  #샘플의 크기(뉴스 기사 길이)\n",
        "\n",
        "#빈도수 1번째 ~ 1500번째 단어들만 사용(num_words=dic_size)\n",
        "#전체 뉴스 기사 중 30%만 테스트용 뉴스 기사로 사용(test_split=0.3)\n",
        "(x_train,y_train),(x_test,y_test)= reuters.load_data(num_words=dic_size, test_split=0.3)\n",
        "\n",
        "embed_space_dim = 128 #64차원 임배딩 공간\n",
        "\n",
        "#훈련용 데이터와 테스트용 데이터의 단어 수 다름\n",
        "#모델 입력으로 길이를 동일하게 패딩\n",
        "x_train = preprocessing.sequence.pad_sequences(x_train,maxlen = sample_size)\n",
        "x_test = preprocessing.sequence.pad_sequences(x_test,maxlen = sample_size)\n",
        "\n",
        "#원-핫 인코딩\n",
        "y_train = to_categorical(y_train)\n",
        "y_test = to_categorical(y_test)\n",
        "\n",
        "#조기 멈춤 적용(4세대 동안 성능향상 없으면 조기 종료)\n",
        "early_stop = EarlyStopping(monitor = 'val_accuracy', verbose = 1, patience = 4, restore_best_weights = True)\n",
        "\n",
        "\n",
        "#신경망 모델 설계와 학습(LSTM 층 포함)\n",
        "embed = Sequential()\n",
        "embed.add(Embedding(input_dim = dic_size, output_dim = embed_space_dim, input_length = sample_size))\n",
        "embed.add(LSTM(units=128))\n",
        "embed.add(Dense(46, activation = 'softmax')) #46개의 카테고리를 분류해야 함\n",
        "#다중 클래스 분류: categorical_crossentropy\n",
        "embed.compile(loss='categorical_crossentropy', optimizer = 'Adam', metrics = ['accuracy'])\n",
        "\n",
        "#모델 학습\n",
        "history = embed.fit(x_train, y_train, epochs = 40, batch_size = 64, validation_data = (x_test, y_test), verbose = 2, callbacks = [early_stop])\n",
        "\n",
        "#모델 평가\n",
        "result = embed.evaluate(x_test, y_test, verbose = 0)\n",
        "print(\"\\nAccuracy: \", result[1]*100)\n",
        "\n",
        "#학습 곡선\n",
        "plt.plot(history.history[\"accuracy\"])\n",
        "plt.plot(history.history['val_accuracy'])\n",
        "plt.title('Model accuracy')\n",
        "plt.ylabel('Accuracy')\n",
        "plt.xlabel('Epoch')\n",
        "plt.legend(['Train', 'Validation'], loc = 'best')\n",
        "plt.grid()\n",
        "plt.show()"
      ],
      "execution_count": 4,
      "outputs": [
        {
          "output_type": "stream",
          "name": "stdout",
          "text": [
            "Epoch 1/40\n",
            "123/123 - 43s - loss: 2.5352 - accuracy: 0.3508 - val_loss: 2.2604 - val_accuracy: 0.4058 - 43s/epoch - 350ms/step\n",
            "Epoch 2/40\n",
            "123/123 - 40s - loss: 2.0827 - accuracy: 0.4904 - val_loss: 1.9904 - val_accuracy: 0.5144 - 40s/epoch - 325ms/step\n",
            "Epoch 3/40\n",
            "123/123 - 40s - loss: 1.9851 - accuracy: 0.5057 - val_loss: 1.8880 - val_accuracy: 0.5129 - 40s/epoch - 322ms/step\n",
            "Epoch 4/40\n",
            "123/123 - 40s - loss: 1.7918 - accuracy: 0.5502 - val_loss: 1.8591 - val_accuracy: 0.5560 - 40s/epoch - 324ms/step\n",
            "Epoch 5/40\n",
            "123/123 - 40s - loss: 1.7531 - accuracy: 0.5513 - val_loss: 1.7680 - val_accuracy: 0.5530 - 40s/epoch - 322ms/step\n",
            "Epoch 6/40\n",
            "123/123 - 39s - loss: 1.6638 - accuracy: 0.5725 - val_loss: 1.6831 - val_accuracy: 0.5770 - 39s/epoch - 321ms/step\n",
            "Epoch 7/40\n",
            "123/123 - 40s - loss: 1.6154 - accuracy: 0.5908 - val_loss: 1.6109 - val_accuracy: 0.5913 - 40s/epoch - 322ms/step\n",
            "Epoch 8/40\n",
            "123/123 - 40s - loss: 1.5326 - accuracy: 0.6145 - val_loss: 1.5612 - val_accuracy: 0.6156 - 40s/epoch - 323ms/step\n",
            "Epoch 9/40\n",
            "123/123 - 40s - loss: 1.4429 - accuracy: 0.6404 - val_loss: 1.4914 - val_accuracy: 0.6343 - 40s/epoch - 323ms/step\n",
            "Epoch 10/40\n",
            "123/123 - 40s - loss: 1.3470 - accuracy: 0.6638 - val_loss: 1.4114 - val_accuracy: 0.6551 - 40s/epoch - 323ms/step\n",
            "Epoch 11/40\n",
            "123/123 - 40s - loss: 1.2633 - accuracy: 0.6880 - val_loss: 1.3518 - val_accuracy: 0.6682 - 40s/epoch - 322ms/step\n",
            "Epoch 12/40\n",
            "123/123 - 40s - loss: 1.1886 - accuracy: 0.7051 - val_loss: 1.2835 - val_accuracy: 0.6863 - 40s/epoch - 323ms/step\n",
            "Epoch 13/40\n",
            "123/123 - 40s - loss: 1.1180 - accuracy: 0.7190 - val_loss: 1.2699 - val_accuracy: 0.6824 - 40s/epoch - 323ms/step\n",
            "Epoch 14/40\n",
            "123/123 - 40s - loss: 1.0603 - accuracy: 0.7364 - val_loss: 1.2061 - val_accuracy: 0.7020 - 40s/epoch - 324ms/step\n",
            "Epoch 15/40\n",
            "123/123 - 40s - loss: 1.0006 - accuracy: 0.7482 - val_loss: 1.1642 - val_accuracy: 0.7142 - 40s/epoch - 325ms/step\n",
            "Epoch 16/40\n",
            "123/123 - 40s - loss: 0.9396 - accuracy: 0.7632 - val_loss: 1.1584 - val_accuracy: 0.7219 - 40s/epoch - 325ms/step\n",
            "Epoch 17/40\n",
            "123/123 - 40s - loss: 0.8886 - accuracy: 0.7764 - val_loss: 1.1713 - val_accuracy: 0.7097 - 40s/epoch - 325ms/step\n",
            "Epoch 18/40\n",
            "123/123 - 40s - loss: 0.8373 - accuracy: 0.7866 - val_loss: 1.1677 - val_accuracy: 0.7189 - 40s/epoch - 324ms/step\n",
            "Epoch 19/40\n",
            "123/123 - 40s - loss: 0.8060 - accuracy: 0.7960 - val_loss: 1.1610 - val_accuracy: 0.7168 - 40s/epoch - 322ms/step\n",
            "Epoch 20/40\n",
            "123/123 - 40s - loss: 0.7555 - accuracy: 0.8102 - val_loss: 1.1450 - val_accuracy: 0.7335 - 40s/epoch - 324ms/step\n",
            "Epoch 21/40\n",
            "123/123 - 40s - loss: 0.7215 - accuracy: 0.8152 - val_loss: 1.1706 - val_accuracy: 0.7293 - 40s/epoch - 324ms/step\n",
            "Epoch 22/40\n",
            "123/123 - 40s - loss: 0.6780 - accuracy: 0.8292 - val_loss: 1.1620 - val_accuracy: 0.7237 - 40s/epoch - 324ms/step\n",
            "Epoch 23/40\n",
            "123/123 - 40s - loss: 0.6466 - accuracy: 0.8352 - val_loss: 1.1960 - val_accuracy: 0.7219 - 40s/epoch - 322ms/step\n",
            "Epoch 24/40\n",
            "123/123 - 40s - loss: 0.6074 - accuracy: 0.8459 - val_loss: 1.1905 - val_accuracy: 0.7421 - 40s/epoch - 323ms/step\n",
            "Epoch 25/40\n",
            "123/123 - 40s - loss: 0.5827 - accuracy: 0.8544 - val_loss: 1.2544 - val_accuracy: 0.7213 - 40s/epoch - 324ms/step\n",
            "Epoch 26/40\n",
            "123/123 - 40s - loss: 0.5458 - accuracy: 0.8636 - val_loss: 1.1958 - val_accuracy: 0.7385 - 40s/epoch - 322ms/step\n",
            "Epoch 27/40\n",
            "123/123 - 40s - loss: 0.5125 - accuracy: 0.8686 - val_loss: 1.2273 - val_accuracy: 0.7364 - 40s/epoch - 324ms/step\n",
            "Epoch 28/40\n",
            "Restoring model weights from the end of the best epoch: 24.\n",
            "123/123 - 40s - loss: 0.4674 - accuracy: 0.8846 - val_loss: 1.2609 - val_accuracy: 0.7332 - 40s/epoch - 328ms/step\n",
            "Epoch 00028: early stopping\n",
            "\n",
            "Accuracy:  74.20599460601807\n"
          ]
        },
        {
          "output_type": "display_data",
          "data": {
            "image/png": "[encoded data removed]",
            "text/plain": [
              "<Figure size 432x288 with 1 Axes>"
            ]
          },
          "metadata": {
            "needs_background": "light"
          }
        }
      ]
    }
  ]
}