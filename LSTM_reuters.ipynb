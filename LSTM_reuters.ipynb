{
  "nbformat": 4,
  "nbformat_minor": 0,
  "metadata": {
    "colab": {
      "name": "LSTM_reuters.ipynb",
      "provenance": [],
      "authorship_tag": "ABX9TyOMfIfWzL13TSSSepcssJnN",
      "include_colab_link": true
    },
    "kernelspec": {
      "name": "python3",
      "display_name": "Python 3"
    },
    "language_info": {
      "name": "python"
    }
  },
  "cells": [
    {
      "cell_type": "markdown",
      "metadata": {
        "id": "view-in-github",
        "colab_type": "text"
      },
      "source": [
        "<a href=\"https://colab.research.google.com/github/9yubean2/DeepLearning/blob/main/LSTM_reuters.ipynb\" target=\"_parent\"><img src=\"https://colab.research.google.com/assets/colab-badge.svg\" alt=\"Open In Colab\"/></a>"
      ]
    },
    {
      "cell_type": "code",
      "metadata": {
        "colab": {
          "base_uri": "https://localhost:8080/",
          "height": 1000
        },
        "id": "fF8k66W1LseW",
        "outputId": "26cc41b8-770e-4af7-ef76-14099eed6dbb"
      },
      "source": [
        "from tensorflow.keras.datasets import reuters\n",
        "from tensorflow.keras.models import Sequential\n",
        "from tensorflow.keras.layers import Dense,LSTM,Embedding\n",
        "from tensorflow.keras import preprocessing\n",
        "from tensorflow.keras.utils import to_categorical\n",
        "from tensorflow.keras.callbacks import EarlyStopping, ModelCheckpoint\n",
        "from tensorflow.keras.models import load_model\n",
        "\n",
        "import numpy as np\n",
        "import matplotlib.pyplot as plt\n",
        "\n",
        "dic_size = 1000 #단어 빈도수\n",
        "sample_size = 140  #샘플의 크기(뉴스 기사 길이)\n",
        "\n",
        "#빈도수 1번째 ~ 1000번째 단어들만 사용(num_words=dic_size)\n",
        "#전체 뉴스 기사 중 30%만 테스트용 뉴스 기사로 사용(test_split=0.3)\n",
        "(x_train,y_train),(x_test,y_test)= reuters.load_data(num_words=dic_size, test_split=0.3)\n",
        "\n",
        "embed_space_dim = 128 #128차원 임배딩 공간\n",
        "\n",
        "#훈련용 데이터와 테스트용 데이터의 단어 수 다름\n",
        "#모델 입력으로 길이를 동일하게 패딩\n",
        "x_train = preprocessing.sequence.pad_sequences(x_train,maxlen = sample_size)\n",
        "x_test = preprocessing.sequence.pad_sequences(x_test,maxlen = sample_size)\n",
        "\n",
        "#원-핫 인코딩\n",
        "y_train = to_categorical(y_train)\n",
        "y_test = to_categorical(y_test)\n",
        "\n",
        "#조기 멈춤 적용(4세대 동안 성능향상 없으면 조기 종료)\n",
        "early_stop = EarlyStopping(monitor = 'val_accuracy', verbose = 1, patience = 4, restore_best_weights = True)\n",
        "\n",
        "\n",
        "#신경망 모델 설계와 학습(LSTM 층 포함)\n",
        "embed = Sequential()\n",
        "embed.add(Embedding(input_dim = dic_size, output_dim = embed_space_dim, input_length = sample_size))\n",
        "embed.add(LSTM(units=128))\n",
        "embed.add(Dense(46, activation = 'softmax')) #46개의 카테고리를 분류해야 함\n",
        "#다중 클래스 분류: categorical_crossentropy\n",
        "embed.compile(loss='categorical_crossentropy', optimizer = 'Adam', metrics = ['accuracy'])\n",
        "\n",
        "#모델 학습\n",
        "history = embed.fit(x_train, y_train, epochs = 40, batch_size = 128, validation_data = (x_test, y_test), verbose = 2, callbacks = [early_stop])\n",
        "\n",
        "#모델 평가\n",
        "result = embed.evaluate(x_test, y_test, verbose = 0)\n",
        "print(\"\\nAccuracy: \", result[1]*100)\n",
        "\n",
        "#학습 곡선\n",
        "plt.plot(history.history[\"accuracy\"])\n",
        "plt.plot(history.history['val_accuracy'])\n",
        "plt.title('Model accuracy')\n",
        "plt.ylabel('Accuracy')\n",
        "plt.xlabel('Epoch')\n",
        "plt.legend(['Train', 'Validation'], loc = 'best')\n",
        "plt.grid()\n",
        "plt.show()"
      ],
      "execution_count": 5,
      "outputs": [
        {
          "output_type": "stream",
          "name": "stdout",
          "text": [
            "Epoch 1/40\n",
            "62/62 - 35s - loss: 2.6483 - accuracy: 0.3484 - val_loss: 2.2790 - val_accuracy: 0.3571 - 35s/epoch - 571ms/step\n",
            "Epoch 2/40\n",
            "62/62 - 33s - loss: 2.0929 - accuracy: 0.4613 - val_loss: 1.9244 - val_accuracy: 0.5251 - 33s/epoch - 528ms/step\n",
            "Epoch 3/40\n",
            "62/62 - 33s - loss: 1.8966 - accuracy: 0.4962 - val_loss: 1.7619 - val_accuracy: 0.5560 - 33s/epoch - 529ms/step\n",
            "Epoch 4/40\n",
            "62/62 - 34s - loss: 1.7565 - accuracy: 0.5333 - val_loss: 1.7414 - val_accuracy: 0.5473 - 34s/epoch - 542ms/step\n",
            "Epoch 5/40\n",
            "62/62 - 34s - loss: 1.6895 - accuracy: 0.5680 - val_loss: 1.7235 - val_accuracy: 0.5595 - 34s/epoch - 544ms/step\n",
            "Epoch 6/40\n",
            "62/62 - 34s - loss: 1.6395 - accuracy: 0.5810 - val_loss: 1.6625 - val_accuracy: 0.5794 - 34s/epoch - 549ms/step\n",
            "Epoch 7/40\n",
            "62/62 - 33s - loss: 1.5623 - accuracy: 0.6048 - val_loss: 1.5936 - val_accuracy: 0.6135 - 33s/epoch - 535ms/step\n",
            "Epoch 8/40\n",
            "62/62 - 33s - loss: 1.4811 - accuracy: 0.6264 - val_loss: 1.4973 - val_accuracy: 0.6218 - 33s/epoch - 537ms/step\n",
            "Epoch 9/40\n",
            "62/62 - 33s - loss: 1.3795 - accuracy: 0.6514 - val_loss: 1.4791 - val_accuracy: 0.6248 - 33s/epoch - 540ms/step\n",
            "Epoch 10/40\n",
            "62/62 - 33s - loss: 1.3426 - accuracy: 0.6612 - val_loss: 1.3938 - val_accuracy: 0.6584 - 33s/epoch - 535ms/step\n",
            "Epoch 11/40\n",
            "62/62 - 33s - loss: 1.2840 - accuracy: 0.6730 - val_loss: 1.3682 - val_accuracy: 0.6613 - 33s/epoch - 534ms/step\n",
            "Epoch 12/40\n",
            "62/62 - 33s - loss: 1.1955 - accuracy: 0.6932 - val_loss: 1.3292 - val_accuracy: 0.6744 - 33s/epoch - 539ms/step\n",
            "Epoch 13/40\n",
            "62/62 - 34s - loss: 1.1329 - accuracy: 0.7095 - val_loss: 1.3100 - val_accuracy: 0.6723 - 34s/epoch - 540ms/step\n",
            "Epoch 14/40\n",
            "62/62 - 33s - loss: 1.1257 - accuracy: 0.7152 - val_loss: 1.3220 - val_accuracy: 0.6717 - 33s/epoch - 530ms/step\n",
            "Epoch 15/40\n",
            "62/62 - 33s - loss: 1.0567 - accuracy: 0.7280 - val_loss: 1.2428 - val_accuracy: 0.6925 - 33s/epoch - 535ms/step\n",
            "Epoch 16/40\n",
            "62/62 - 34s - loss: 1.0102 - accuracy: 0.7408 - val_loss: 1.2688 - val_accuracy: 0.6871 - 34s/epoch - 541ms/step\n",
            "Epoch 17/40\n",
            "62/62 - 33s - loss: 0.9644 - accuracy: 0.7488 - val_loss: 1.2420 - val_accuracy: 0.6963 - 33s/epoch - 539ms/step\n",
            "Epoch 18/40\n",
            "62/62 - 34s - loss: 0.9340 - accuracy: 0.7598 - val_loss: 1.2175 - val_accuracy: 0.7067 - 34s/epoch - 541ms/step\n",
            "Epoch 19/40\n",
            "62/62 - 33s - loss: 0.8927 - accuracy: 0.7689 - val_loss: 1.2328 - val_accuracy: 0.7005 - 33s/epoch - 539ms/step\n",
            "Epoch 20/40\n",
            "62/62 - 34s - loss: 0.8450 - accuracy: 0.7815 - val_loss: 1.2264 - val_accuracy: 0.6987 - 34s/epoch - 545ms/step\n",
            "Epoch 21/40\n",
            "62/62 - 33s - loss: 0.8206 - accuracy: 0.7942 - val_loss: 1.2118 - val_accuracy: 0.7127 - 33s/epoch - 534ms/step\n",
            "Epoch 22/40\n",
            "62/62 - 33s - loss: 0.7766 - accuracy: 0.8052 - val_loss: 1.2251 - val_accuracy: 0.7192 - 33s/epoch - 525ms/step\n",
            "Epoch 23/40\n",
            "62/62 - 33s - loss: 0.7617 - accuracy: 0.8068 - val_loss: 1.1828 - val_accuracy: 0.7192 - 33s/epoch - 530ms/step\n",
            "Epoch 24/40\n",
            "62/62 - 33s - loss: 0.7074 - accuracy: 0.8258 - val_loss: 1.2154 - val_accuracy: 0.7156 - 33s/epoch - 536ms/step\n",
            "Epoch 25/40\n",
            "62/62 - 33s - loss: 0.6751 - accuracy: 0.8272 - val_loss: 1.1985 - val_accuracy: 0.7231 - 33s/epoch - 533ms/step\n",
            "Epoch 26/40\n",
            "62/62 - 33s - loss: 0.6386 - accuracy: 0.8404 - val_loss: 1.2162 - val_accuracy: 0.7204 - 33s/epoch - 530ms/step\n",
            "Epoch 27/40\n",
            "62/62 - 33s - loss: 0.6256 - accuracy: 0.8427 - val_loss: 1.2183 - val_accuracy: 0.7204 - 33s/epoch - 531ms/step\n",
            "Epoch 28/40\n",
            "62/62 - 33s - loss: 0.5918 - accuracy: 0.8506 - val_loss: 1.2251 - val_accuracy: 0.7337 - 33s/epoch - 534ms/step\n",
            "Epoch 29/40\n",
            "62/62 - 33s - loss: 0.5659 - accuracy: 0.8551 - val_loss: 1.2781 - val_accuracy: 0.7189 - 33s/epoch - 532ms/step\n",
            "Epoch 30/40\n",
            "62/62 - 33s - loss: 0.5283 - accuracy: 0.8700 - val_loss: 1.2796 - val_accuracy: 0.7142 - 33s/epoch - 533ms/step\n",
            "Epoch 31/40\n",
            "62/62 - 33s - loss: 0.5226 - accuracy: 0.8672 - val_loss: 1.2659 - val_accuracy: 0.7311 - 33s/epoch - 534ms/step\n",
            "Epoch 32/40\n",
            "Restoring model weights from the end of the best epoch: 28.\n",
            "62/62 - 33s - loss: 0.5025 - accuracy: 0.8715 - val_loss: 1.3032 - val_accuracy: 0.7287 - 33s/epoch - 530ms/step\n",
            "Epoch 00032: early stopping\n",
            "\n",
            "Accuracy:  73.37489128112793\n"
          ]
        },
        {
          "output_type": "display_data",
          "data": {
            "image/png": "[encoded data removed]",
            "text/plain": [
              "<Figure size 432x288 with 1 Axes>"
            ]
          },
          "metadata": {
            "needs_background": "light"
          }
        }
      ]
    }
  ]
}