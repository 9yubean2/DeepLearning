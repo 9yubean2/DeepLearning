{
  "nbformat": 4,
  "nbformat_minor": 0,
  "metadata": {
    "colab": {
      "name": "LSTM_reuters.ipynb",
      "provenance": [],
      "authorship_tag": "ABX9TyM1BMhlHTfJjWjNBLoi4//X",
      "include_colab_link": true
    },
    "kernelspec": {
      "name": "python3",
      "display_name": "Python 3"
    },
    "language_info": {
      "name": "python"
    }
  },
  "cells": [
    {
      "cell_type": "markdown",
      "metadata": {
        "id": "view-in-github",
        "colab_type": "text"
      },
      "source": [
        "<a href=\"https://colab.research.google.com/github/9yubean2/DeepLearning/blob/main/LSTM_reuters.ipynb\" target=\"_parent\"><img src=\"https://colab.research.google.com/assets/colab-badge.svg\" alt=\"Open In Colab\"/></a>"
      ]
    },
    {
      "cell_type": "code",
      "metadata": {
        "colab": {
          "base_uri": "https://localhost:8080/",
          "height": 1000
        },
        "id": "fF8k66W1LseW",
        "outputId": "f74eaa11-319a-40e8-f057-d21f41d2e1e7"
      },
      "source": [
        "from tensorflow.keras.datasets import reuters\n",
        "from tensorflow.keras.models import Sequential\n",
        "from tensorflow.keras.layers import Dense,LSTM,Embedding\n",
        "from tensorflow.keras import preprocessing\n",
        "from tensorflow.keras.utils import to_categorical\n",
        "from tensorflow.keras.callbacks import EarlyStopping, ModelCheckpoint\n",
        "from tensorflow.keras.models import load_model\n",
        "\n",
        "import numpy as np\n",
        "import matplotlib.pyplot as plt\n",
        "\n",
        "dic_size = 1000 #단어 빈도수\n",
        "sample_size = 140  #샘플의 크기(뉴스 기사 길이)\n",
        "\n",
        "#빈도수 1번째 ~ 1500번째 단어들만 사용(num_words=dic_size)\n",
        "#전체 뉴스 기사 중 30%만 테스트용 뉴스 기사로 사용(test_split=0.3)\n",
        "(x_train,y_train),(x_test,y_test)= reuters.load_data(num_words=dic_size, test_split=0.3)\n",
        "\n",
        "embed_space_dim = 64 #64차원 임배딩 공간\n",
        "\n",
        "#훈련용 데이터와 테스트용 데이터의 단어 수 다름\n",
        "#모델 입력으로 길이를 동일하게 패딩\n",
        "x_train = preprocessing.sequence.pad_sequences(x_train,maxlen = sample_size)\n",
        "x_test = preprocessing.sequence.pad_sequences(x_test,maxlen = sample_size)\n",
        "\n",
        "#원-핫 인코딩\n",
        "y_train = to_categorical(y_train)\n",
        "y_test = to_categorical(y_test)\n",
        "\n",
        "#조기 멈춤 적용(4세대 동안 성능향상 없으면 조기 종료)\n",
        "early_stop = EarlyStopping(monitor = 'val_accuracy', verbose = 1, patience = 4, restore_best_weights = True)\n",
        "\n",
        "\n",
        "#신경망 모델 설계와 학습(LSTM 층 포함)\n",
        "embed = Sequential()\n",
        "embed.add(Embedding(input_dim = dic_size, output_dim = embed_space_dim, input_length = sample_size))\n",
        "embed.add(LSTM(units=64))\n",
        "embed.add(Dense(46, activation = 'softmax')) #46개의 카테고리를 분류해야 함\n",
        "#다중 클래스 분류: categorical_crossentropy\n",
        "embed.compile(loss='categorical_crossentropy', optimizer = 'Adam', metrics = ['accuracy'])\n",
        "\n",
        "#모델 학습\n",
        "history = embed.fit(x_train, y_train, epochs = 40, batch_size = 64, validation_data = (x_test, y_test), verbose = 2, callbacks = [early_stop])\n",
        "\n",
        "#모델 평가\n",
        "result = embed.evaluate(x_test, y_test, verbose = 0)\n",
        "print(\"\\nAccuracy: \", result[1]*100)\n",
        "\n",
        "#학습 곡선\n",
        "plt.plot(history.history[\"accuracy\"])\n",
        "plt.plot(history.history['val_accuracy'])\n",
        "plt.title('Model accuracy')\n",
        "plt.ylabel('Accuracy')\n",
        "plt.xlabel('Epoch')\n",
        "plt.legend(['Train', 'Validation'], loc = 'best')\n",
        "plt.grid()\n",
        "plt.show()"
      ],
      "execution_count": 3,
      "outputs": [
        {
          "output_type": "stream",
          "name": "stdout",
          "text": [
            "Epoch 1/40\n",
            "123/123 - 16s - loss: 2.6233 - accuracy: 0.3497 - val_loss: 2.3435 - val_accuracy: 0.3571 - 16s/epoch - 129ms/step\n",
            "Epoch 2/40\n",
            "123/123 - 14s - loss: 2.0745 - accuracy: 0.4770 - val_loss: 2.0456 - val_accuracy: 0.5058 - 14s/epoch - 110ms/step\n",
            "Epoch 3/40\n",
            "123/123 - 13s - loss: 1.9376 - accuracy: 0.4898 - val_loss: 1.8738 - val_accuracy: 0.4862 - 13s/epoch - 109ms/step\n",
            "Epoch 4/40\n",
            "123/123 - 13s - loss: 1.9963 - accuracy: 0.4836 - val_loss: 1.9356 - val_accuracy: 0.4969 - 13s/epoch - 109ms/step\n",
            "Epoch 5/40\n",
            "123/123 - 14s - loss: 1.8060 - accuracy: 0.5339 - val_loss: 1.8334 - val_accuracy: 0.5551 - 14s/epoch - 111ms/step\n",
            "Epoch 6/40\n",
            "123/123 - 14s - loss: 1.7271 - accuracy: 0.5482 - val_loss: 1.7364 - val_accuracy: 0.5408 - 14s/epoch - 110ms/step\n",
            "Epoch 7/40\n",
            "123/123 - 14s - loss: 1.6796 - accuracy: 0.5577 - val_loss: 1.7089 - val_accuracy: 0.5616 - 14s/epoch - 111ms/step\n",
            "Epoch 8/40\n",
            "123/123 - 14s - loss: 1.6615 - accuracy: 0.5643 - val_loss: 1.6858 - val_accuracy: 0.5607 - 14s/epoch - 111ms/step\n",
            "Epoch 9/40\n",
            "123/123 - 14s - loss: 1.6141 - accuracy: 0.5769 - val_loss: 1.6375 - val_accuracy: 0.5696 - 14s/epoch - 110ms/step\n",
            "Epoch 10/40\n",
            "123/123 - 14s - loss: 1.5637 - accuracy: 0.5909 - val_loss: 1.6164 - val_accuracy: 0.5916 - 14s/epoch - 112ms/step\n",
            "Epoch 11/40\n",
            "123/123 - 14s - loss: 1.4949 - accuracy: 0.6127 - val_loss: 1.5547 - val_accuracy: 0.6097 - 14s/epoch - 111ms/step\n",
            "Epoch 12/40\n",
            "123/123 - 14s - loss: 1.4366 - accuracy: 0.6263 - val_loss: 1.5345 - val_accuracy: 0.6213 - 14s/epoch - 111ms/step\n",
            "Epoch 13/40\n",
            "123/123 - 14s - loss: 1.4075 - accuracy: 0.6368 - val_loss: 1.4801 - val_accuracy: 0.6269 - 14s/epoch - 110ms/step\n",
            "Epoch 14/40\n",
            "123/123 - 13s - loss: 1.3379 - accuracy: 0.6505 - val_loss: 1.4495 - val_accuracy: 0.6352 - 13s/epoch - 109ms/step\n",
            "Epoch 15/40\n",
            "123/123 - 13s - loss: 1.2726 - accuracy: 0.6683 - val_loss: 1.4242 - val_accuracy: 0.6400 - 13s/epoch - 110ms/step\n",
            "Epoch 16/40\n",
            "123/123 - 13s - loss: 1.2067 - accuracy: 0.6844 - val_loss: 1.3861 - val_accuracy: 0.6483 - 13s/epoch - 109ms/step\n",
            "Epoch 17/40\n",
            "123/123 - 14s - loss: 1.1483 - accuracy: 0.7012 - val_loss: 1.3318 - val_accuracy: 0.6652 - 14s/epoch - 110ms/step\n",
            "Epoch 18/40\n",
            "123/123 - 14s - loss: 1.0911 - accuracy: 0.7216 - val_loss: 1.3514 - val_accuracy: 0.6661 - 14s/epoch - 111ms/step\n",
            "Epoch 19/40\n",
            "123/123 - 14s - loss: 1.0554 - accuracy: 0.7286 - val_loss: 1.2841 - val_accuracy: 0.6824 - 14s/epoch - 110ms/step\n",
            "Epoch 20/40\n",
            "123/123 - 13s - loss: 1.0152 - accuracy: 0.7402 - val_loss: 1.2687 - val_accuracy: 0.6907 - 13s/epoch - 109ms/step\n",
            "Epoch 21/40\n",
            "123/123 - 13s - loss: 0.9761 - accuracy: 0.7498 - val_loss: 1.2677 - val_accuracy: 0.6880 - 13s/epoch - 109ms/step\n",
            "Epoch 22/40\n",
            "123/123 - 13s - loss: 0.9408 - accuracy: 0.7617 - val_loss: 1.2660 - val_accuracy: 0.6883 - 13s/epoch - 109ms/step\n",
            "Epoch 23/40\n",
            "123/123 - 14s - loss: 0.8993 - accuracy: 0.7684 - val_loss: 1.2681 - val_accuracy: 0.6949 - 14s/epoch - 110ms/step\n",
            "Epoch 24/40\n",
            "123/123 - 14s - loss: 0.8638 - accuracy: 0.7771 - val_loss: 1.2691 - val_accuracy: 0.6958 - 14s/epoch - 110ms/step\n",
            "Epoch 25/40\n",
            "123/123 - 13s - loss: 0.8303 - accuracy: 0.7883 - val_loss: 1.2399 - val_accuracy: 0.6958 - 13s/epoch - 109ms/step\n",
            "Epoch 26/40\n",
            "123/123 - 13s - loss: 0.7990 - accuracy: 0.7982 - val_loss: 1.2780 - val_accuracy: 0.7008 - 13s/epoch - 110ms/step\n",
            "Epoch 27/40\n",
            "123/123 - 13s - loss: 0.7631 - accuracy: 0.8016 - val_loss: 1.2770 - val_accuracy: 0.7047 - 13s/epoch - 109ms/step\n",
            "Epoch 28/40\n",
            "123/123 - 13s - loss: 0.7202 - accuracy: 0.8196 - val_loss: 1.2369 - val_accuracy: 0.7088 - 13s/epoch - 109ms/step\n",
            "Epoch 29/40\n",
            "123/123 - 13s - loss: 0.7149 - accuracy: 0.8189 - val_loss: 1.2454 - val_accuracy: 0.7056 - 13s/epoch - 109ms/step\n",
            "Epoch 30/40\n",
            "123/123 - 13s - loss: 0.6881 - accuracy: 0.8240 - val_loss: 1.2514 - val_accuracy: 0.7044 - 13s/epoch - 110ms/step\n",
            "Epoch 31/40\n",
            "123/123 - 14s - loss: 0.6723 - accuracy: 0.8320 - val_loss: 1.2772 - val_accuracy: 0.7053 - 14s/epoch - 110ms/step\n",
            "Epoch 32/40\n",
            "123/123 - 14s - loss: 0.6255 - accuracy: 0.8431 - val_loss: 1.2727 - val_accuracy: 0.7136 - 14s/epoch - 110ms/step\n",
            "Epoch 33/40\n",
            "123/123 - 13s - loss: 0.5892 - accuracy: 0.8515 - val_loss: 1.3060 - val_accuracy: 0.7103 - 13s/epoch - 109ms/step\n",
            "Epoch 34/40\n",
            "123/123 - 13s - loss: 0.5680 - accuracy: 0.8585 - val_loss: 1.3022 - val_accuracy: 0.7165 - 13s/epoch - 109ms/step\n",
            "Epoch 35/40\n",
            "123/123 - 13s - loss: 0.5630 - accuracy: 0.8583 - val_loss: 1.3175 - val_accuracy: 0.7136 - 13s/epoch - 110ms/step\n",
            "Epoch 36/40\n",
            "123/123 - 13s - loss: 0.5434 - accuracy: 0.8653 - val_loss: 1.3471 - val_accuracy: 0.7136 - 13s/epoch - 110ms/step\n",
            "Epoch 37/40\n",
            "123/123 - 14s - loss: 0.5497 - accuracy: 0.8645 - val_loss: 1.3253 - val_accuracy: 0.7118 - 14s/epoch - 110ms/step\n",
            "Epoch 38/40\n",
            "Restoring model weights from the end of the best epoch: 34.\n",
            "123/123 - 14s - loss: 0.5208 - accuracy: 0.8694 - val_loss: 1.3400 - val_accuracy: 0.7153 - 14s/epoch - 110ms/step\n",
            "Epoch 00038: early stopping\n",
            "\n",
            "Accuracy:  71.65331244468689\n"
          ]
        },
        {
          "output_type": "display_data",
          "data": {
            "image/png": "[encoded data removed]",
            "text/plain": [
              "<Figure size 432x288 with 1 Axes>"
            ]
          },
          "metadata": {
            "needs_background": "light"
          }
        }
      ]
    }
  ]
}